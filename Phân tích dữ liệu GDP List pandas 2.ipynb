{
 "cells": [
  {
   "cell_type": "code",
   "execution_count": 1,
   "id": "e8af36bb",
   "metadata": {},
   "outputs": [],
   "source": [
    "import matplotlib.pyplot as plt\n",
    "import pandas as pd\n",
    "import numpy as np"
   ]
  },
  {
   "cell_type": "code",
   "execution_count": 2,
   "id": "249df83b",
   "metadata": {},
   "outputs": [
    {
     "data": {
      "text/html": [
       "<div>\n",
       "<style scoped>\n",
       "    .dataframe tbody tr th:only-of-type {\n",
       "        vertical-align: middle;\n",
       "    }\n",
       "\n",
       "    .dataframe tbody tr th {\n",
       "        vertical-align: top;\n",
       "    }\n",
       "\n",
       "    .dataframe thead th {\n",
       "        text-align: right;\n",
       "    }\n",
       "</style>\n",
       "<table border=\"1\" class=\"dataframe\">\n",
       "  <thead>\n",
       "    <tr style=\"text-align: right;\">\n",
       "      <th></th>\n",
       "      <th>Country</th>\n",
       "      <th>Continent</th>\n",
       "      <th>GDP (millions of US$)</th>\n",
       "    </tr>\n",
       "  </thead>\n",
       "  <tbody>\n",
       "    <tr>\n",
       "      <th>0</th>\n",
       "      <td>Afghanistan</td>\n",
       "      <td>Asia</td>\n",
       "      <td>18181</td>\n",
       "    </tr>\n",
       "    <tr>\n",
       "      <th>1</th>\n",
       "      <td>Albania</td>\n",
       "      <td>Europe</td>\n",
       "      <td>12847</td>\n",
       "    </tr>\n",
       "    <tr>\n",
       "      <th>2</th>\n",
       "      <td>Algeria</td>\n",
       "      <td>Africa</td>\n",
       "      <td>190709</td>\n",
       "    </tr>\n",
       "    <tr>\n",
       "      <th>3</th>\n",
       "      <td>Angola</td>\n",
       "      <td>Africa</td>\n",
       "      <td>100948</td>\n",
       "    </tr>\n",
       "    <tr>\n",
       "      <th>4</th>\n",
       "      <td>Argentina</td>\n",
       "      <td>South America</td>\n",
       "      <td>447644</td>\n",
       "    </tr>\n",
       "    <tr>\n",
       "      <th>...</th>\n",
       "      <td>...</td>\n",
       "      <td>...</td>\n",
       "      <td>...</td>\n",
       "    </tr>\n",
       "    <tr>\n",
       "      <th>120</th>\n",
       "      <td>Uzbekistan</td>\n",
       "      <td>Asia</td>\n",
       "      <td>45353</td>\n",
       "    </tr>\n",
       "    <tr>\n",
       "      <th>121</th>\n",
       "      <td>Venezuela</td>\n",
       "      <td>South America</td>\n",
       "      <td>315841</td>\n",
       "    </tr>\n",
       "    <tr>\n",
       "      <th>122</th>\n",
       "      <td>Vietnam</td>\n",
       "      <td>Asia</td>\n",
       "      <td>122722</td>\n",
       "    </tr>\n",
       "    <tr>\n",
       "      <th>123</th>\n",
       "      <td>Yemen</td>\n",
       "      <td>Africa</td>\n",
       "      <td>33675</td>\n",
       "    </tr>\n",
       "    <tr>\n",
       "      <th>124</th>\n",
       "      <td>Zambia</td>\n",
       "      <td>Africa</td>\n",
       "      <td>19206</td>\n",
       "    </tr>\n",
       "  </tbody>\n",
       "</table>\n",
       "<p>125 rows × 3 columns</p>\n",
       "</div>"
      ],
      "text/plain": [
       "          Country      Continent  GDP (millions of US$)\n",
       "0     Afghanistan           Asia                  18181\n",
       "1         Albania         Europe                  12847\n",
       "2         Algeria         Africa                 190709\n",
       "3          Angola         Africa                 100948\n",
       "4       Argentina  South America                 447644\n",
       "..            ...            ...                    ...\n",
       "120    Uzbekistan           Asia                  45353\n",
       "121     Venezuela  South America                 315841\n",
       "122       Vietnam           Asia                 122722\n",
       "123         Yemen         Africa                  33675\n",
       "124        Zambia         Africa                  19206\n",
       "\n",
       "[125 rows x 3 columns]"
      ]
     },
     "execution_count": 2,
     "metadata": {},
     "output_type": "execute_result"
    }
   ],
   "source": [
    "data = pd.read_csv('GDPlist.csv', header=0, encoding= 'ISO-8859-1')\n",
    "data"
   ]
  },
  {
   "cell_type": "code",
   "execution_count": 3,
   "id": "436e290e",
   "metadata": {},
   "outputs": [
    {
     "name": "stdout",
     "output_type": "stream",
     "text": [
      "<class 'pandas.core.frame.DataFrame'>\n",
      "RangeIndex: 125 entries, 0 to 124\n",
      "Data columns (total 3 columns):\n",
      " #   Column                 Non-Null Count  Dtype \n",
      "---  ------                 --------------  ----- \n",
      " 0   Country                125 non-null    object\n",
      " 1   Continent              125 non-null    object\n",
      " 2   GDP (millions of US$)  125 non-null    int64 \n",
      "dtypes: int64(1), object(2)\n",
      "memory usage: 3.1+ KB\n"
     ]
    }
   ],
   "source": [
    "# Đọc bộ dữ liệu, cho biết số dòng, số cột và kiểu dữ liệu của các thuộc tính.\n",
    "data.info()"
   ]
  },
  {
   "cell_type": "code",
   "execution_count": 4,
   "id": "451934c3",
   "metadata": {},
   "outputs": [
    {
     "data": {
      "text/html": [
       "<div>\n",
       "<style scoped>\n",
       "    .dataframe tbody tr th:only-of-type {\n",
       "        vertical-align: middle;\n",
       "    }\n",
       "\n",
       "    .dataframe tbody tr th {\n",
       "        vertical-align: top;\n",
       "    }\n",
       "\n",
       "    .dataframe thead th {\n",
       "        text-align: right;\n",
       "    }\n",
       "</style>\n",
       "<table border=\"1\" class=\"dataframe\">\n",
       "  <thead>\n",
       "    <tr style=\"text-align: right;\">\n",
       "      <th></th>\n",
       "      <th>Country</th>\n",
       "      <th>Continent</th>\n",
       "      <th>GDP (millions of US$)</th>\n",
       "    </tr>\n",
       "  </thead>\n",
       "  <tbody>\n",
       "    <tr>\n",
       "      <th>118</th>\n",
       "      <td>United States</td>\n",
       "      <td>North America</td>\n",
       "      <td>15094025</td>\n",
       "    </tr>\n",
       "    <tr>\n",
       "      <th>23</th>\n",
       "      <td>China</td>\n",
       "      <td>Asia</td>\n",
       "      <td>7298147</td>\n",
       "    </tr>\n",
       "    <tr>\n",
       "      <th>60</th>\n",
       "      <td>Japan</td>\n",
       "      <td>Asia</td>\n",
       "      <td>5869471</td>\n",
       "    </tr>\n",
       "    <tr>\n",
       "      <th>44</th>\n",
       "      <td>Germany</td>\n",
       "      <td>Europe</td>\n",
       "      <td>3577031</td>\n",
       "    </tr>\n",
       "    <tr>\n",
       "      <th>41</th>\n",
       "      <td>France</td>\n",
       "      <td>Europe</td>\n",
       "      <td>2776324</td>\n",
       "    </tr>\n",
       "    <tr>\n",
       "      <th>15</th>\n",
       "      <td>Brazil</td>\n",
       "      <td>South America</td>\n",
       "      <td>2492908</td>\n",
       "    </tr>\n",
       "    <tr>\n",
       "      <th>117</th>\n",
       "      <td>United Kingdom</td>\n",
       "      <td>Europe</td>\n",
       "      <td>2417570</td>\n",
       "    </tr>\n",
       "    <tr>\n",
       "      <th>58</th>\n",
       "      <td>Italy</td>\n",
       "      <td>Europe</td>\n",
       "      <td>2198730</td>\n",
       "    </tr>\n",
       "    <tr>\n",
       "      <th>93</th>\n",
       "      <td>Russia</td>\n",
       "      <td>Asia</td>\n",
       "      <td>1850401</td>\n",
       "    </tr>\n",
       "    <tr>\n",
       "      <th>21</th>\n",
       "      <td>Canada</td>\n",
       "      <td>North America</td>\n",
       "      <td>1736869</td>\n",
       "    </tr>\n",
       "  </tbody>\n",
       "</table>\n",
       "</div>"
      ],
      "text/plain": [
       "             Country      Continent  GDP (millions of US$)\n",
       "118    United States  North America               15094025\n",
       "23             China           Asia                7298147\n",
       "60             Japan           Asia                5869471\n",
       "44           Germany         Europe                3577031\n",
       "41            France         Europe                2776324\n",
       "15            Brazil  South America                2492908\n",
       "117   United Kingdom         Europe                2417570\n",
       "58             Italy         Europe                2198730\n",
       "93            Russia           Asia                1850401\n",
       "21            Canada  North America                1736869"
      ]
     },
     "execution_count": 4,
     "metadata": {},
     "output_type": "execute_result"
    }
   ],
   "source": [
    "# Tính giá trị lớn nhất và nhỏ nhất của GDP.\n",
    "data.nlargest(10, ['GDP (millions of US$)'])"
   ]
  },
  {
   "cell_type": "code",
   "execution_count": 5,
   "id": "84910085",
   "metadata": {},
   "outputs": [
    {
     "data": {
      "text/plain": [
       "10600"
      ]
     },
     "execution_count": 5,
     "metadata": {},
     "output_type": "execute_result"
    }
   ],
   "source": [
    "data.groupby('GDP (millions of US$)').max().index[0]"
   ]
  },
  {
   "cell_type": "code",
   "execution_count": 6,
   "id": "8dbc50d0",
   "metadata": {},
   "outputs": [
    {
     "data": {
      "text/plain": [
       "15094025"
      ]
     },
     "execution_count": 6,
     "metadata": {},
     "output_type": "execute_result"
    }
   ],
   "source": [
    "data.groupby('GDP (millions of US$)').max().index[-1]"
   ]
  },
  {
   "cell_type": "markdown",
   "id": "bb2d48d5",
   "metadata": {},
   "source": [
    "# Hãy cho biết xu hướng phân bố dữ liệu của GDP.\n",
    "\n",
    "bộ dữ liệu sẽ tập trung phản ánh giá trị của các quốc gia hiện tại\n",
    "qua bộ dữ liệu ta đánh giá được sức tăng trưởng và quy mô của các quốc gia"
   ]
  },
  {
   "cell_type": "code",
   "execution_count": 7,
   "id": "7863e154",
   "metadata": {},
   "outputs": [
    {
     "data": {
      "text/plain": [
       "Europe           37\n",
       "Asia             36\n",
       "Africa           29\n",
       "North America    11\n",
       "South America     9\n",
       "Oceania           3\n",
       "Name: Continent, dtype: int64"
      ]
     },
     "execution_count": 7,
     "metadata": {},
     "output_type": "execute_result"
    }
   ],
   "source": [
    "# Hãy cho biết châu lục nào xuất hiện nhiều nhất?\n",
    "data.loc[:,'Continent'].value_counts()"
   ]
  },
  {
   "cell_type": "code",
   "execution_count": 8,
   "id": "cd63246d",
   "metadata": {},
   "outputs": [],
   "source": [
    "#châu lục xuất hiện nhiều nhất là Europe"
   ]
  },
  {
   "cell_type": "code",
   "execution_count": 9,
   "id": "68880547",
   "metadata": {},
   "outputs": [
    {
     "data": {
      "text/plain": [
       "678496.9722222222"
      ]
     },
     "execution_count": 9,
     "metadata": {},
     "output_type": "execute_result"
    }
   ],
   "source": [
    "# Với mỗi châu lục hãy tính tổng GDP; trung bình cộng GDP. Hợp nhất 2 bảng này thành một bảng duy nhất gồm 3 thông tin: Tên châu lục; Tổng GDP; TBC GDP.\n",
    "df1 = data.loc[data.Continent == 'Asia']\n",
    "df1.loc[:,'GDP (millions of US$)'].sum()\n",
    "df1.loc[:,'GDP (millions of US$)'].mean()"
   ]
  },
  {
   "cell_type": "code",
   "execution_count": 10,
   "id": "cd773e1b",
   "metadata": {},
   "outputs": [],
   "source": [
    "df2 = data.loc[data.Continent == 'Europe']\n",
    "df3 = data.loc[data.Continent == 'Africa']\n",
    "df4 = data.loc[data.Continent == 'North America']\n",
    "df5 = data.loc[data.Continent == 'South America']\n",
    "df6 = data.loc[data.Continent == 'Oceania']"
   ]
  },
  {
   "cell_type": "code",
   "execution_count": 11,
   "id": "99c6601d",
   "metadata": {},
   "outputs": [
    {
     "data": {
      "text/plain": [
       "list[0               Asia\n",
       "1             Europe\n",
       "2             Africa\n",
       "3             Africa\n",
       "4      South America\n",
       "           ...      \n",
       "120             Asia\n",
       "121    South America\n",
       "122             Asia\n",
       "123           Africa\n",
       "124           Africa\n",
       "Name: Continent, Length: 125, dtype: object]"
      ]
     },
     "execution_count": 11,
     "metadata": {},
     "output_type": "execute_result"
    }
   ],
   "source": [
    "list[data.loc[:,'Continent']]#.value_counts()]"
   ]
  },
  {
   "cell_type": "code",
   "execution_count": 34,
   "id": "3c271eea",
   "metadata": {},
   "outputs": [
    {
     "data": {
      "text/html": [
       "<div>\n",
       "<style scoped>\n",
       "    .dataframe tbody tr th:only-of-type {\n",
       "        vertical-align: middle;\n",
       "    }\n",
       "\n",
       "    .dataframe tbody tr th {\n",
       "        vertical-align: top;\n",
       "    }\n",
       "\n",
       "    .dataframe thead th {\n",
       "        text-align: right;\n",
       "    }\n",
       "</style>\n",
       "<table border=\"1\" class=\"dataframe\">\n",
       "  <thead>\n",
       "    <tr style=\"text-align: right;\">\n",
       "      <th></th>\n",
       "      <th>unique_values</th>\n",
       "      <th>counts for course_difficulty</th>\n",
       "    </tr>\n",
       "  </thead>\n",
       "  <tbody>\n",
       "    <tr>\n",
       "      <th>0</th>\n",
       "      <td>Europe</td>\n",
       "      <td>37</td>\n",
       "    </tr>\n",
       "    <tr>\n",
       "      <th>1</th>\n",
       "      <td>Asia</td>\n",
       "      <td>36</td>\n",
       "    </tr>\n",
       "    <tr>\n",
       "      <th>2</th>\n",
       "      <td>Africa</td>\n",
       "      <td>29</td>\n",
       "    </tr>\n",
       "    <tr>\n",
       "      <th>3</th>\n",
       "      <td>North America</td>\n",
       "      <td>11</td>\n",
       "    </tr>\n",
       "    <tr>\n",
       "      <th>4</th>\n",
       "      <td>South America</td>\n",
       "      <td>9</td>\n",
       "    </tr>\n",
       "    <tr>\n",
       "      <th>5</th>\n",
       "      <td>Oceania</td>\n",
       "      <td>3</td>\n",
       "    </tr>\n",
       "  </tbody>\n",
       "</table>\n",
       "</div>"
      ],
      "text/plain": [
       "   unique_values  counts for course_difficulty\n",
       "0         Europe                            37\n",
       "1           Asia                            36\n",
       "2         Africa                            29\n",
       "3  North America                            11\n",
       "4  South America                             9\n",
       "5        Oceania                             3"
      ]
     },
     "execution_count": 34,
     "metadata": {},
     "output_type": "execute_result"
    }
   ],
   "source": [
    "Continent1 = data.loc[:,'Continent'].value_counts()\n",
    "df_value_counts = pd.DataFrame(Continent1)\n",
    "df_value_counts = df_value_counts.reset_index()\n",
    "df_value_counts.columns = ['unique_values', 'counts for course_difficulty'] # change column names\n",
    "df_value_counts"
   ]
  },
  {
   "cell_type": "code",
   "execution_count": 39,
   "id": "472a7180",
   "metadata": {},
   "outputs": [
    {
     "data": {
      "text/plain": [
       "['Europe', 'Asia', 'Africa', 'North America', 'South America', 'Oceania']"
      ]
     },
     "execution_count": 39,
     "metadata": {},
     "output_type": "execute_result"
    }
   ],
   "source": [
    "Continent = df_value_counts['unique_values'].tolist()\n",
    "Continent"
   ]
  },
  {
   "cell_type": "code",
   "execution_count": 13,
   "id": "8f587fc0",
   "metadata": {},
   "outputs": [
    {
     "data": {
      "text/plain": [
       "[24425891, 19139380, 1820811, 18238447, 4141217, 1662727]"
      ]
     },
     "execution_count": 13,
     "metadata": {},
     "output_type": "execute_result"
    }
   ],
   "source": [
    "sumGDP = [df1.loc[:,'GDP (millions of US$)'].sum(),\n",
    "          df2.loc[:,'GDP (millions of US$)'].sum(),\n",
    "         df3.loc[:,'GDP (millions of US$)'].sum(),\n",
    "         df4.loc[:,'GDP (millions of US$)'].sum(),\n",
    "         df5.loc[:,'GDP (millions of US$)'].sum(),\n",
    "         df6.loc[:,'GDP (millions of US$)'].sum()]\n",
    "sumGDP"
   ]
  },
  {
   "cell_type": "code",
   "execution_count": 14,
   "id": "93fec54b",
   "metadata": {},
   "outputs": [
    {
     "data": {
      "text/plain": [
       "[678496.9722222222,\n",
       " 517280.54054054053,\n",
       " 62786.58620689655,\n",
       " 1658040.6363636365,\n",
       " 460135.22222222225,\n",
       " 554242.3333333334]"
      ]
     },
     "execution_count": 14,
     "metadata": {},
     "output_type": "execute_result"
    }
   ],
   "source": [
    "MeanGDP = [df1.loc[:,'GDP (millions of US$)'].mean(),\n",
    "          df2.loc[:,'GDP (millions of US$)'].mean(),\n",
    "          df3.loc[:,'GDP (millions of US$)'].mean(),\n",
    "          df4.loc[:,'GDP (millions of US$)'].mean(),\n",
    "          df5.loc[:,'GDP (millions of US$)'].mean(),\n",
    "          df6.loc[:,'GDP (millions of US$)'].mean()]\n",
    "MeanGDP"
   ]
  },
  {
   "cell_type": "code",
   "execution_count": 52,
   "id": "fe4aff24",
   "metadata": {},
   "outputs": [
    {
     "data": {
      "text/html": [
       "<div>\n",
       "<style scoped>\n",
       "    .dataframe tbody tr th:only-of-type {\n",
       "        vertical-align: middle;\n",
       "    }\n",
       "\n",
       "    .dataframe tbody tr th {\n",
       "        vertical-align: top;\n",
       "    }\n",
       "\n",
       "    .dataframe thead th {\n",
       "        text-align: right;\n",
       "    }\n",
       "</style>\n",
       "<table border=\"1\" class=\"dataframe\">\n",
       "  <thead>\n",
       "    <tr style=\"text-align: right;\">\n",
       "      <th></th>\n",
       "      <th>0</th>\n",
       "      <th>1</th>\n",
       "      <th>2</th>\n",
       "    </tr>\n",
       "  </thead>\n",
       "  <tbody>\n",
       "    <tr>\n",
       "      <th>0</th>\n",
       "      <td>Europe</td>\n",
       "      <td>24425891</td>\n",
       "      <td>678496.972222</td>\n",
       "    </tr>\n",
       "    <tr>\n",
       "      <th>1</th>\n",
       "      <td>Asia</td>\n",
       "      <td>19139380</td>\n",
       "      <td>517280.540541</td>\n",
       "    </tr>\n",
       "    <tr>\n",
       "      <th>2</th>\n",
       "      <td>Africa</td>\n",
       "      <td>1820811</td>\n",
       "      <td>62786.586207</td>\n",
       "    </tr>\n",
       "    <tr>\n",
       "      <th>3</th>\n",
       "      <td>North America</td>\n",
       "      <td>18238447</td>\n",
       "      <td>1658040.636364</td>\n",
       "    </tr>\n",
       "    <tr>\n",
       "      <th>4</th>\n",
       "      <td>South America</td>\n",
       "      <td>4141217</td>\n",
       "      <td>460135.222222</td>\n",
       "    </tr>\n",
       "    <tr>\n",
       "      <th>5</th>\n",
       "      <td>Oceania</td>\n",
       "      <td>1662727</td>\n",
       "      <td>554242.333333</td>\n",
       "    </tr>\n",
       "  </tbody>\n",
       "</table>\n",
       "</div>"
      ],
      "text/plain": [
       "               0         1               2\n",
       "0         Europe  24425891   678496.972222\n",
       "1           Asia  19139380   517280.540541\n",
       "2         Africa   1820811    62786.586207\n",
       "3  North America  18238447  1658040.636364\n",
       "4  South America   4141217   460135.222222\n",
       "5        Oceania   1662727   554242.333333"
      ]
     },
     "execution_count": 52,
     "metadata": {},
     "output_type": "execute_result"
    }
   ],
   "source": [
    "ten= ['Continent','Tổng GDP', 'Trung bình cộng GDP']\n",
    "\n",
    "Data1 = pd.DataFrame(data = [Continent,sumGDP,MeanGDP])\n",
    "DataFrame_GDP=Data1.transpose()\n",
    "DataFrame_GDP"
   ]
  },
  {
   "cell_type": "code",
   "execution_count": 54,
   "id": "972688fa",
   "metadata": {},
   "outputs": [
    {
     "data": {
      "text/html": [
       "<div>\n",
       "<style scoped>\n",
       "    .dataframe tbody tr th:only-of-type {\n",
       "        vertical-align: middle;\n",
       "    }\n",
       "\n",
       "    .dataframe tbody tr th {\n",
       "        vertical-align: top;\n",
       "    }\n",
       "\n",
       "    .dataframe thead th {\n",
       "        text-align: right;\n",
       "    }\n",
       "</style>\n",
       "<table border=\"1\" class=\"dataframe\">\n",
       "  <thead>\n",
       "    <tr style=\"text-align: right;\">\n",
       "      <th></th>\n",
       "      <th>Continent</th>\n",
       "      <th>Tổng GDP</th>\n",
       "      <th>Trung bình cộng GDP</th>\n",
       "    </tr>\n",
       "  </thead>\n",
       "  <tbody>\n",
       "    <tr>\n",
       "      <th>0</th>\n",
       "      <td>Europe</td>\n",
       "      <td>24425891</td>\n",
       "      <td>678496.972222</td>\n",
       "    </tr>\n",
       "    <tr>\n",
       "      <th>1</th>\n",
       "      <td>Asia</td>\n",
       "      <td>19139380</td>\n",
       "      <td>517280.540541</td>\n",
       "    </tr>\n",
       "    <tr>\n",
       "      <th>2</th>\n",
       "      <td>Africa</td>\n",
       "      <td>1820811</td>\n",
       "      <td>62786.586207</td>\n",
       "    </tr>\n",
       "    <tr>\n",
       "      <th>3</th>\n",
       "      <td>North America</td>\n",
       "      <td>18238447</td>\n",
       "      <td>1658040.636364</td>\n",
       "    </tr>\n",
       "    <tr>\n",
       "      <th>4</th>\n",
       "      <td>South America</td>\n",
       "      <td>4141217</td>\n",
       "      <td>460135.222222</td>\n",
       "    </tr>\n",
       "    <tr>\n",
       "      <th>5</th>\n",
       "      <td>Oceania</td>\n",
       "      <td>1662727</td>\n",
       "      <td>554242.333333</td>\n",
       "    </tr>\n",
       "  </tbody>\n",
       "</table>\n",
       "</div>"
      ],
      "text/plain": [
       "       Continent  Tổng GDP Trung bình cộng GDP\n",
       "0         Europe  24425891       678496.972222\n",
       "1           Asia  19139380       517280.540541\n",
       "2         Africa   1820811        62786.586207\n",
       "3  North America  18238447      1658040.636364\n",
       "4  South America   4141217       460135.222222\n",
       "5        Oceania   1662727       554242.333333"
      ]
     },
     "execution_count": 54,
     "metadata": {},
     "output_type": "execute_result"
    }
   ],
   "source": [
    "DataFrame_GDP.columns = ten\n",
    "DataFrame_GDP"
   ]
  },
  {
   "cell_type": "code",
   "execution_count": null,
   "id": "469f6143",
   "metadata": {},
   "outputs": [],
   "source": []
  }
 ],
 "metadata": {
  "kernelspec": {
   "display_name": "Python 3 (ipykernel)",
   "language": "python",
   "name": "python3"
  },
  "language_info": {
   "codemirror_mode": {
    "name": "ipython",
    "version": 3
   },
   "file_extension": ".py",
   "mimetype": "text/x-python",
   "name": "python",
   "nbconvert_exporter": "python",
   "pygments_lexer": "ipython3",
   "version": "3.9.12"
  }
 },
 "nbformat": 4,
 "nbformat_minor": 5
}
