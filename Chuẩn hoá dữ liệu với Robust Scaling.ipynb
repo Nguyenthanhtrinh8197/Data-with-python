{
 "cells": [
  {
   "cell_type": "markdown",
   "id": "9308d788",
   "metadata": {},
   "source": [
    "Hàm này sẽ chuyển đổi các đặc trưng bằng cách scale mỗi đặc trưng sử dụng thống kê, loại bỏ ngoại lai.\n",
    "\n",
    "Sau khi chuẩn hóa với RobustScaler, chúng ta có thể áp dụng thêm StandardScaler hoặc MinMaxScaler cho quá trình tiền xử lý dữ liệu.\n",
    "\n",
    "Bộ chuẩn hóa này loại bỏ trung vị và chia tỷ lệ dữ liệu thành các phần tư (mặc định là IQR: Interquartile Range). IQR là phạm vi giữa phần tư thứ nhất (25%) và phần tư thứ ba (75%)."
   ]
  },
  {
   "cell_type": "code",
   "execution_count": 1,
   "id": "6f7b0d64",
   "metadata": {},
   "outputs": [],
   "source": [
    "import pandas as pd\n",
    "import numpy as np\n",
    "import matplotlib.pyplot as plt\n",
    "import seaborn as sns\n",
    "from sklearn.preprocessing import RobustScaler"
   ]
  },
  {
   "cell_type": "code",
   "execution_count": 2,
   "id": "c9806217",
   "metadata": {},
   "outputs": [],
   "source": [
    "# tạo các cột theo các phần phối khác nhau\n",
    "df = pd.DataFrame({ \n",
    "    'beta': np.random.beta(5, 1, 1000) * 60,        # beta\n",
    "    'exponential': np.random.exponential(10, 1000), # exponential\n",
    "    'normal_p': np.random.normal(10, 2, 1000),      # normal platykurtic\n",
    "    'normal_l': np.random.normal(10, 10, 1000),     # normal leptokurtic\n",
    "})"
   ]
  },
  {
   "cell_type": "code",
   "execution_count": 3,
   "id": "a81576d2",
   "metadata": {},
   "outputs": [],
   "source": [
    "# thêm dữ liệu được tạo theo phân phối nhị thức\n",
    "first_half = np.random.normal(20, 3, 500) \n",
    "second_half = np.random.normal(-20, 3, 500) \n",
    "bimodal = np.concatenate([first_half, second_half])\n",
    "\n",
    "df['bimodal'] = bimodal"
   ]
  },
  {
   "cell_type": "code",
   "execution_count": 4,
   "id": "b413e454",
   "metadata": {},
   "outputs": [
    {
     "data": {
      "text/html": [
       "<div>\n",
       "<style scoped>\n",
       "    .dataframe tbody tr th:only-of-type {\n",
       "        vertical-align: middle;\n",
       "    }\n",
       "\n",
       "    .dataframe tbody tr th {\n",
       "        vertical-align: top;\n",
       "    }\n",
       "\n",
       "    .dataframe thead th {\n",
       "        text-align: right;\n",
       "    }\n",
       "</style>\n",
       "<table border=\"1\" class=\"dataframe\">\n",
       "  <thead>\n",
       "    <tr style=\"text-align: right;\">\n",
       "      <th></th>\n",
       "      <th>beta</th>\n",
       "      <th>exponential</th>\n",
       "      <th>normal_p</th>\n",
       "      <th>normal_l</th>\n",
       "      <th>bimodal</th>\n",
       "    </tr>\n",
       "  </thead>\n",
       "  <tbody>\n",
       "    <tr>\n",
       "      <th>0</th>\n",
       "      <td>54.135914</td>\n",
       "      <td>17.310551</td>\n",
       "      <td>6.399715</td>\n",
       "      <td>-5.645539</td>\n",
       "      <td>22.018523</td>\n",
       "    </tr>\n",
       "    <tr>\n",
       "      <th>1</th>\n",
       "      <td>58.075768</td>\n",
       "      <td>0.082880</td>\n",
       "      <td>8.560631</td>\n",
       "      <td>-1.503742</td>\n",
       "      <td>17.907892</td>\n",
       "    </tr>\n",
       "    <tr>\n",
       "      <th>2</th>\n",
       "      <td>53.650665</td>\n",
       "      <td>19.292481</td>\n",
       "      <td>14.814058</td>\n",
       "      <td>-5.928844</td>\n",
       "      <td>15.834230</td>\n",
       "    </tr>\n",
       "    <tr>\n",
       "      <th>3</th>\n",
       "      <td>55.786891</td>\n",
       "      <td>9.226510</td>\n",
       "      <td>14.330865</td>\n",
       "      <td>20.339290</td>\n",
       "      <td>19.910628</td>\n",
       "    </tr>\n",
       "    <tr>\n",
       "      <th>4</th>\n",
       "      <td>42.156120</td>\n",
       "      <td>5.676636</td>\n",
       "      <td>12.385610</td>\n",
       "      <td>14.981923</td>\n",
       "      <td>20.836118</td>\n",
       "    </tr>\n",
       "  </tbody>\n",
       "</table>\n",
       "</div>"
      ],
      "text/plain": [
       "        beta  exponential   normal_p   normal_l    bimodal\n",
       "0  54.135914    17.310551   6.399715  -5.645539  22.018523\n",
       "1  58.075768     0.082880   8.560631  -1.503742  17.907892\n",
       "2  53.650665    19.292481  14.814058  -5.928844  15.834230\n",
       "3  55.786891     9.226510  14.330865  20.339290  19.910628\n",
       "4  42.156120     5.676636  12.385610  14.981923  20.836118"
      ]
     },
     "execution_count": 4,
     "metadata": {},
     "output_type": "execute_result"
    }
   ],
   "source": [
    "# hiển thị dữ liệu\n",
    "df.head()"
   ]
  },
  {
   "cell_type": "code",
   "execution_count": 5,
   "id": "e5b8de02",
   "metadata": {},
   "outputs": [
    {
     "data": {
      "text/plain": [
       "<AxesSubplot:ylabel='Density'>"
      ]
     },
     "execution_count": 5,
     "metadata": {},
     "output_type": "execute_result"
    },
    {
     "data": {
      "image/png": "[encoded data removed]",
      "text/plain": [
       "<Figure size 432x288 with 1 Axes>"
      ]
     },
     "metadata": {
      "needs_background": "light"
     },
     "output_type": "display_data"
    }
   ],
   "source": [
    "sns.kdeplot(data=df)"
   ]
  },
  {
   "cell_type": "code",
   "execution_count": 6,
   "id": "c508dd40",
   "metadata": {},
   "outputs": [
    {
     "data": {
      "text/html": [
       "<div>\n",
       "<style scoped>\n",
       "    .dataframe tbody tr th:only-of-type {\n",
       "        vertical-align: middle;\n",
       "    }\n",
       "\n",
       "    .dataframe tbody tr th {\n",
       "        vertical-align: top;\n",
       "    }\n",
       "\n",
       "    .dataframe thead th {\n",
       "        text-align: right;\n",
       "    }\n",
       "</style>\n",
       "<table border=\"1\" class=\"dataframe\">\n",
       "  <thead>\n",
       "    <tr style=\"text-align: right;\">\n",
       "      <th></th>\n",
       "      <th>beta</th>\n",
       "      <th>exponential</th>\n",
       "      <th>normal_p</th>\n",
       "      <th>normal_l</th>\n",
       "      <th>bimodal</th>\n",
       "    </tr>\n",
       "  </thead>\n",
       "  <tbody>\n",
       "    <tr>\n",
       "      <th>count</th>\n",
       "      <td>1000.000000</td>\n",
       "      <td>1000.000000</td>\n",
       "      <td>1000.000000</td>\n",
       "      <td>1000.000000</td>\n",
       "      <td>1000.000000</td>\n",
       "    </tr>\n",
       "    <tr>\n",
       "      <th>mean</th>\n",
       "      <td>49.726972</td>\n",
       "      <td>9.933490</td>\n",
       "      <td>10.044873</td>\n",
       "      <td>9.778653</td>\n",
       "      <td>0.106765</td>\n",
       "    </tr>\n",
       "    <tr>\n",
       "      <th>std</th>\n",
       "      <td>8.433826</td>\n",
       "      <td>10.356755</td>\n",
       "      <td>2.132260</td>\n",
       "      <td>10.102067</td>\n",
       "      <td>20.203167</td>\n",
       "    </tr>\n",
       "    <tr>\n",
       "      <th>min</th>\n",
       "      <td>13.093554</td>\n",
       "      <td>0.008562</td>\n",
       "      <td>3.285923</td>\n",
       "      <td>-25.853609</td>\n",
       "      <td>-28.508893</td>\n",
       "    </tr>\n",
       "    <tr>\n",
       "      <th>25%</th>\n",
       "      <td>45.178484</td>\n",
       "      <td>2.480470</td>\n",
       "      <td>8.588509</td>\n",
       "      <td>3.448731</td>\n",
       "      <td>-19.711706</td>\n",
       "    </tr>\n",
       "    <tr>\n",
       "      <th>50%</th>\n",
       "      <td>51.946326</td>\n",
       "      <td>6.528094</td>\n",
       "      <td>10.072221</td>\n",
       "      <td>9.606545</td>\n",
       "      <td>1.593909</td>\n",
       "    </tr>\n",
       "    <tr>\n",
       "      <th>75%</th>\n",
       "      <td>56.418350</td>\n",
       "      <td>13.902735</td>\n",
       "      <td>11.380049</td>\n",
       "      <td>16.405377</td>\n",
       "      <td>20.158649</td>\n",
       "    </tr>\n",
       "    <tr>\n",
       "      <th>max</th>\n",
       "      <td>59.997455</td>\n",
       "      <td>68.929634</td>\n",
       "      <td>16.778456</td>\n",
       "      <td>44.290293</td>\n",
       "      <td>28.234620</td>\n",
       "    </tr>\n",
       "  </tbody>\n",
       "</table>\n",
       "</div>"
      ],
      "text/plain": [
       "              beta  exponential     normal_p     normal_l      bimodal\n",
       "count  1000.000000  1000.000000  1000.000000  1000.000000  1000.000000\n",
       "mean     49.726972     9.933490    10.044873     9.778653     0.106765\n",
       "std       8.433826    10.356755     2.132260    10.102067    20.203167\n",
       "min      13.093554     0.008562     3.285923   -25.853609   -28.508893\n",
       "25%      45.178484     2.480470     8.588509     3.448731   -19.711706\n",
       "50%      51.946326     6.528094    10.072221     9.606545     1.593909\n",
       "75%      56.418350    13.902735    11.380049    16.405377    20.158649\n",
       "max      59.997455    68.929634    16.778456    44.290293    28.234620"
      ]
     },
     "execution_count": 6,
     "metadata": {},
     "output_type": "execute_result"
    }
   ],
   "source": [
    "df.describe()"
   ]
  },
  {
   "cell_type": "code",
   "execution_count": 7,
   "id": "f5836a72",
   "metadata": {},
   "outputs": [
    {
     "data": {
      "text/plain": [
       "<AxesSubplot:ylabel='Density'>"
      ]
     },
     "execution_count": 7,
     "metadata": {},
     "output_type": "execute_result"
    },
    {
     "data": {
      "image/png": "[encoded data removed]",
      "text/plain": [
       "<Figure size 432x288 with 1 Axes>"
      ]
     },
     "metadata": {
      "needs_background": "light"
     },
     "output_type": "display_data"
    }
   ],
   "source": [
    "normal_big = np.random.normal(1000000, 10000, (1000,1))  # normal distribution of large values\n",
    "df['normal_big'] = normal_big\n",
    "sns.kdeplot(data=df)"
   ]
  },
  {
   "cell_type": "code",
   "execution_count": 8,
   "id": "6f29fea1",
   "metadata": {},
   "outputs": [
    {
     "data": {
      "text/plain": [
       "<AxesSubplot:>"
      ]
     },
     "execution_count": 8,
     "metadata": {},
     "output_type": "execute_result"
    },
    {
     "data": {
      "image/png": "[encoded data removed]",
      "text/plain": [
       "<Figure size 432x288 with 1 Axes>"
      ]
     },
     "metadata": {
      "needs_background": "light"
     },
     "output_type": "display_data"
    }
   ],
   "source": [
    "# trực quan hóa bằng biểu đồ box plot\n",
    "df.boxplot()"
   ]
  },
  {
   "cell_type": "code",
   "execution_count": 9,
   "id": "31abac1c",
   "metadata": {},
   "outputs": [],
   "source": [
    "# Khai báo đối tượng MinMaxScaler\n",
    "scaler = RobustScaler()"
   ]
  },
  {
   "cell_type": "code",
   "execution_count": 10,
   "id": "15f068dc",
   "metadata": {},
   "outputs": [],
   "source": [
    "# Chuẩn hóa dữ liệu trong df với StandardScaler\n",
    "df_s = scaler.fit_transform(df)\n",
    "\n",
    "# lấy danh sáchc cột\n",
    "col_names = list(df.columns)\n",
    "\n",
    "# chuyển về DataFrame, gán các cột của df cho dữ liệu đã được chuẩn hóa\n",
    "df_s = pd.DataFrame(df_s, columns=col_names)"
   ]
  },
  {
   "cell_type": "code",
   "execution_count": 11,
   "id": "01804c70",
   "metadata": {},
   "outputs": [
    {
     "data": {
      "text/html": [
       "<div>\n",
       "<style scoped>\n",
       "    .dataframe tbody tr th:only-of-type {\n",
       "        vertical-align: middle;\n",
       "    }\n",
       "\n",
       "    .dataframe tbody tr th {\n",
       "        vertical-align: top;\n",
       "    }\n",
       "\n",
       "    .dataframe thead th {\n",
       "        text-align: right;\n",
       "    }\n",
       "</style>\n",
       "<table border=\"1\" class=\"dataframe\">\n",
       "  <thead>\n",
       "    <tr style=\"text-align: right;\">\n",
       "      <th></th>\n",
       "      <th>beta</th>\n",
       "      <th>exponential</th>\n",
       "      <th>normal_p</th>\n",
       "      <th>normal_l</th>\n",
       "      <th>bimodal</th>\n",
       "      <th>normal_big</th>\n",
       "    </tr>\n",
       "  </thead>\n",
       "  <tbody>\n",
       "    <tr>\n",
       "      <th>0</th>\n",
       "      <td>0.194806</td>\n",
       "      <td>0.943986</td>\n",
       "      <td>-1.315584</td>\n",
       "      <td>-1.177163</td>\n",
       "      <td>0.512276</td>\n",
       "      <td>-0.278530</td>\n",
       "    </tr>\n",
       "    <tr>\n",
       "      <th>1</th>\n",
       "      <td>0.545331</td>\n",
       "      <td>-0.564268</td>\n",
       "      <td>-0.541490</td>\n",
       "      <td>-0.857497</td>\n",
       "      <td>0.409176</td>\n",
       "      <td>-0.681037</td>\n",
       "    </tr>\n",
       "    <tr>\n",
       "      <th>2</th>\n",
       "      <td>0.151633</td>\n",
       "      <td>1.117501</td>\n",
       "      <td>1.698645</td>\n",
       "      <td>-1.199029</td>\n",
       "      <td>0.357166</td>\n",
       "      <td>0.417751</td>\n",
       "    </tr>\n",
       "    <tr>\n",
       "      <th>3</th>\n",
       "      <td>0.341691</td>\n",
       "      <td>0.236242</td>\n",
       "      <td>1.525553</td>\n",
       "      <td>0.828358</td>\n",
       "      <td>0.459407</td>\n",
       "      <td>0.234606</td>\n",
       "    </tr>\n",
       "    <tr>\n",
       "      <th>4</th>\n",
       "      <td>-0.871025</td>\n",
       "      <td>-0.074544</td>\n",
       "      <td>0.828714</td>\n",
       "      <td>0.414874</td>\n",
       "      <td>0.482619</td>\n",
       "      <td>-0.314250</td>\n",
       "    </tr>\n",
       "  </tbody>\n",
       "</table>\n",
       "</div>"
      ],
      "text/plain": [
       "       beta  exponential  normal_p  normal_l   bimodal  normal_big\n",
       "0  0.194806     0.943986 -1.315584 -1.177163  0.512276   -0.278530\n",
       "1  0.545331    -0.564268 -0.541490 -0.857497  0.409176   -0.681037\n",
       "2  0.151633     1.117501  1.698645 -1.199029  0.357166    0.417751\n",
       "3  0.341691     0.236242  1.525553  0.828358  0.459407    0.234606\n",
       "4 -0.871025    -0.074544  0.828714  0.414874  0.482619   -0.314250"
      ]
     },
     "execution_count": 11,
     "metadata": {},
     "output_type": "execute_result"
    }
   ],
   "source": [
    "df_s.head()"
   ]
  },
  {
   "cell_type": "code",
   "execution_count": 12,
   "id": "c2ae60b9",
   "metadata": {},
   "outputs": [
    {
     "data": {
      "text/plain": [
       "<AxesSubplot:ylabel='Density'>"
      ]
     },
     "execution_count": 12,
     "metadata": {},
     "output_type": "execute_result"
    },
    {
     "data": {
      "image/png": "[encoded data removed]",
      "text/plain": [
       "<Figure size 432x288 with 1 Axes>"
      ]
     },
     "metadata": {
      "needs_background": "light"
     },
     "output_type": "display_data"
    }
   ],
   "source": [
    "# biểu diễn dữ liệu đã được chuẩn hóa\n",
    "sns.kdeplot(data=df_s)"
   ]
  },
  {
   "cell_type": "code",
   "execution_count": 13,
   "id": "a54a7c29",
   "metadata": {},
   "outputs": [
    {
     "data": {
      "text/html": [
       "<div>\n",
       "<style scoped>\n",
       "    .dataframe tbody tr th:only-of-type {\n",
       "        vertical-align: middle;\n",
       "    }\n",
       "\n",
       "    .dataframe tbody tr th {\n",
       "        vertical-align: top;\n",
       "    }\n",
       "\n",
       "    .dataframe thead th {\n",
       "        text-align: right;\n",
       "    }\n",
       "</style>\n",
       "<table border=\"1\" class=\"dataframe\">\n",
       "  <thead>\n",
       "    <tr style=\"text-align: right;\">\n",
       "      <th></th>\n",
       "      <th>beta</th>\n",
       "      <th>exponential</th>\n",
       "      <th>normal_p</th>\n",
       "      <th>normal_l</th>\n",
       "      <th>bimodal</th>\n",
       "      <th>normal_big</th>\n",
       "    </tr>\n",
       "  </thead>\n",
       "  <tbody>\n",
       "    <tr>\n",
       "      <th>count</th>\n",
       "      <td>1000.000000</td>\n",
       "      <td>1000.000000</td>\n",
       "      <td>1000.000000</td>\n",
       "      <td>1.000000e+03</td>\n",
       "      <td>1000.000000</td>\n",
       "      <td>1000.000000</td>\n",
       "    </tr>\n",
       "    <tr>\n",
       "      <th>mean</th>\n",
       "      <td>-0.197454</td>\n",
       "      <td>0.298137</td>\n",
       "      <td>-0.009797</td>\n",
       "      <td>1.328340e-02</td>\n",
       "      <td>-0.037299</td>\n",
       "      <td>-0.035169</td>\n",
       "    </tr>\n",
       "    <tr>\n",
       "      <th>std</th>\n",
       "      <td>0.750349</td>\n",
       "      <td>0.906716</td>\n",
       "      <td>0.763829</td>\n",
       "      <td>7.796822e-01</td>\n",
       "      <td>0.506722</td>\n",
       "      <td>0.776104</td>\n",
       "    </tr>\n",
       "    <tr>\n",
       "      <th>min</th>\n",
       "      <td>-3.456694</td>\n",
       "      <td>-0.570774</td>\n",
       "      <td>-2.431023</td>\n",
       "      <td>-2.736831e+00</td>\n",
       "      <td>-0.755017</td>\n",
       "      <td>-2.737490</td>\n",
       "    </tr>\n",
       "    <tr>\n",
       "      <th>25%</th>\n",
       "      <td>-0.602128</td>\n",
       "      <td>-0.354363</td>\n",
       "      <td>-0.531503</td>\n",
       "      <td>-4.752630e-01</td>\n",
       "      <td>-0.534372</td>\n",
       "      <td>-0.538122</td>\n",
       "    </tr>\n",
       "    <tr>\n",
       "      <th>50%</th>\n",
       "      <td>0.000000</td>\n",
       "      <td>0.000000</td>\n",
       "      <td>0.000000</td>\n",
       "      <td>-6.852158e-17</td>\n",
       "      <td>0.000000</td>\n",
       "      <td>0.000000</td>\n",
       "    </tr>\n",
       "    <tr>\n",
       "      <th>75%</th>\n",
       "      <td>0.397872</td>\n",
       "      <td>0.645637</td>\n",
       "      <td>0.468497</td>\n",
       "      <td>5.247370e-01</td>\n",
       "      <td>0.465628</td>\n",
       "      <td>0.461878</td>\n",
       "    </tr>\n",
       "    <tr>\n",
       "      <th>max</th>\n",
       "      <td>0.716301</td>\n",
       "      <td>5.463150</td>\n",
       "      <td>2.402342</td>\n",
       "      <td>2.676908e+00</td>\n",
       "      <td>0.668183</td>\n",
       "      <td>2.266179</td>\n",
       "    </tr>\n",
       "  </tbody>\n",
       "</table>\n",
       "</div>"
      ],
      "text/plain": [
       "              beta  exponential     normal_p      normal_l      bimodal  \\\n",
       "count  1000.000000  1000.000000  1000.000000  1.000000e+03  1000.000000   \n",
       "mean     -0.197454     0.298137    -0.009797  1.328340e-02    -0.037299   \n",
       "std       0.750349     0.906716     0.763829  7.796822e-01     0.506722   \n",
       "min      -3.456694    -0.570774    -2.431023 -2.736831e+00    -0.755017   \n",
       "25%      -0.602128    -0.354363    -0.531503 -4.752630e-01    -0.534372   \n",
       "50%       0.000000     0.000000     0.000000 -6.852158e-17     0.000000   \n",
       "75%       0.397872     0.645637     0.468497  5.247370e-01     0.465628   \n",
       "max       0.716301     5.463150     2.402342  2.676908e+00     0.668183   \n",
       "\n",
       "        normal_big  \n",
       "count  1000.000000  \n",
       "mean     -0.035169  \n",
       "std       0.776104  \n",
       "min      -2.737490  \n",
       "25%      -0.538122  \n",
       "50%       0.000000  \n",
       "75%       0.461878  \n",
       "max       2.266179  "
      ]
     },
     "execution_count": 13,
     "metadata": {},
     "output_type": "execute_result"
    }
   ],
   "source": [
    "# thống kê về dữ liệu được sinh ra\n",
    "df_s.describe()"
   ]
  },
  {
   "cell_type": "code",
   "execution_count": 14,
   "id": "9bb266ec",
   "metadata": {},
   "outputs": [
    {
     "data": {
      "text/plain": [
       "<AxesSubplot:>"
      ]
     },
     "execution_count": 14,
     "metadata": {},
     "output_type": "execute_result"
    },
    {
     "data": {
      "image/png": "[encoded data removed]",
      "text/plain": [
       "<Figure size 432x288 with 1 Axes>"
      ]
     },
     "metadata": {
      "needs_background": "light"
     },
     "output_type": "display_data"
    }
   ],
   "source": [
    "df_s.boxplot()"
   ]
  },
  {
   "cell_type": "code",
   "execution_count": 15,
   "id": "e8796d47",
   "metadata": {},
   "outputs": [
    {
     "data": {
      "text/plain": [
       "[-3.456693635570888,\n",
       " -0.5707739691689822,\n",
       " -2.4310226293897683,\n",
       " -2.7368312143524007,\n",
       " -0.7550171284728894,\n",
       " -2.7374898591558243]"
      ]
     },
     "execution_count": 15,
     "metadata": {},
     "output_type": "execute_result"
    }
   ],
   "source": [
    "# lấy các giá trị min ở mỗi cột\n",
    "mins = [df_s[col].min() for col in df_s.columns]\n",
    "mins"
   ]
  },
  {
   "cell_type": "code",
   "execution_count": 16,
   "id": "c0eaacea",
   "metadata": {},
   "outputs": [
    {
     "data": {
      "text/plain": [
       "[0.7163012084741845,\n",
       " 5.463149758128364,\n",
       " 2.4023418354525945,\n",
       " 2.676907824843601,\n",
       " 0.6681834409559473,\n",
       " 2.266179146847557]"
      ]
     },
     "execution_count": 16,
     "metadata": {},
     "output_type": "execute_result"
    }
   ],
   "source": [
    "# lấy giá trị max ở mỗi cột\n",
    "maxs = [df_s[col].max() for col in df_s.columns]\n",
    "maxs"
   ]
  },
  {
   "cell_type": "code",
   "execution_count": 17,
   "id": "e924e87c",
   "metadata": {},
   "outputs": [
    {
     "data": {
      "text/plain": [
       "array([5.19463260e+01, 6.52809351e+00, 1.00722213e+01, 9.60654504e+00,\n",
       "       1.59390860e+00, 9.99824755e+05])"
      ]
     },
     "execution_count": 17,
     "metadata": {},
     "output_type": "execute_result"
    }
   ],
   "source": [
    "# giá trị trung vị của các đặc trưng của tập dữ liệu gốc\n",
    "scaler.center_"
   ]
  },
  {
   "cell_type": "code",
   "execution_count": null,
   "id": "acf6d010",
   "metadata": {},
   "outputs": [],
   "source": []
  }
 ],
 "metadata": {
  "kernelspec": {
   "display_name": "Python 3 (ipykernel)",
   "language": "python",
   "name": "python3"
  },
  "language_info": {
   "codemirror_mode": {
    "name": "ipython",
    "version": 3
   },
   "file_extension": ".py",
   "mimetype": "text/x-python",
   "name": "python",
   "nbconvert_exporter": "python",
   "pygments_lexer": "ipython3",
   "version": "3.9.12"
  }
 },
 "nbformat": 4,
 "nbformat_minor": 5
}
